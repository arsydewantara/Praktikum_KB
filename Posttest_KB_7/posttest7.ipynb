{
 "cells": [
  {
   "cell_type": "code",
   "execution_count": 2,
   "metadata": {},
   "outputs": [],
   "source": [
    "import tensorflow as tf"
   ]
  },
  {
   "cell_type": "markdown",
   "metadata": {},
   "source": [
    "# Membuat tensor dengan shape(5,5) dengan nilai random"
   ]
  },
  {
   "cell_type": "code",
   "execution_count": 53,
   "metadata": {},
   "outputs": [
    {
     "name": "stdout",
     "output_type": "stream",
     "text": [
      "tf.Tensor(\n",
      "[[6 1 8 5 4]\n",
      " [3 4 1 8 9]\n",
      " [4 7 6 8 8]\n",
      " [8 3 9 9 8]\n",
      " [4 7 9 2 7]], shape=(5, 5), dtype=int64)\n"
     ]
    }
   ],
   "source": [
    "random_tensor = tf.random.uniform([5,5],maxval=10,dtype=tf.int64)\n",
    "print(random_tensor)"
   ]
  },
  {
   "cell_type": "markdown",
   "metadata": {},
   "source": [
    "### Menampilkan Dimensi random_tensor"
   ]
  },
  {
   "cell_type": "code",
   "execution_count": 54,
   "metadata": {},
   "outputs": [
    {
     "name": "stdout",
     "output_type": "stream",
     "text": [
      "(5, 5)\n"
     ]
    }
   ],
   "source": [
    "print(random_tensor.shape)"
   ]
  },
  {
   "cell_type": "markdown",
   "metadata": {},
   "source": [
    "# Membuat tensor dengan shape(5,5) dari sebuah list dengan nilai bilangan prima"
   ]
  },
  {
   "cell_type": "code",
   "execution_count": 55,
   "metadata": {},
   "outputs": [
    {
     "name": "stdout",
     "output_type": "stream",
     "text": [
      "tf.Tensor(\n",
      "[[ 2  3  5  7 11]\n",
      " [13 17 19 23 29]\n",
      " [31 37 41 43 47]\n",
      " [53 59 61 67 71]\n",
      " [73 79 83 89 97]], shape=(5, 5), dtype=int64)\n"
     ]
    }
   ],
   "source": [
    "prime_tensor = tf.constant([2,3,5,7,11,13,17,19,23,29,31,37,41,43,47,53,59,61,67,71,73,79,83,89,97], shape= (5,5), dtype=tf.int64 )\n",
    "print(prime_tensor)"
   ]
  },
  {
   "cell_type": "markdown",
   "metadata": {},
   "source": [
    "### Menampilkan DImensi prime_tensor"
   ]
  },
  {
   "cell_type": "code",
   "execution_count": 56,
   "metadata": {},
   "outputs": [
    {
     "name": "stdout",
     "output_type": "stream",
     "text": [
      "(5, 5)\n"
     ]
    }
   ],
   "source": [
    "print(prime_tensor.shape)"
   ]
  },
  {
   "cell_type": "markdown",
   "metadata": {},
   "source": [
    "# Aritmatika 2 variable\n"
   ]
  },
  {
   "cell_type": "markdown",
   "metadata": {},
   "source": [
    "### Penjumlahan"
   ]
  },
  {
   "cell_type": "code",
   "execution_count": 57,
   "metadata": {},
   "outputs": [
    {
     "name": "stdout",
     "output_type": "stream",
     "text": [
      "tf.Tensor(\n",
      "[[  8   4  13  12  15]\n",
      " [ 16  21  20  31  38]\n",
      " [ 35  44  47  51  55]\n",
      " [ 61  62  70  76  79]\n",
      " [ 77  86  92  91 104]], shape=(5, 5), dtype=int64)\n"
     ]
    }
   ],
   "source": [
    "print(tf.add(random_tensor, prime_tensor))"
   ]
  },
  {
   "cell_type": "markdown",
   "metadata": {},
   "source": [
    "### Pengurangan\n"
   ]
  },
  {
   "cell_type": "code",
   "execution_count": 58,
   "metadata": {},
   "outputs": [
    {
     "name": "stdout",
     "output_type": "stream",
     "text": [
      "tf.Tensor(\n",
      "[[  4  -2   3  -2  -7]\n",
      " [-10 -13 -18 -15 -20]\n",
      " [-27 -30 -35 -35 -39]\n",
      " [-45 -56 -52 -58 -63]\n",
      " [-69 -72 -74 -87 -90]], shape=(5, 5), dtype=int64)\n"
     ]
    }
   ],
   "source": [
    "print(tf.subtract(random_tensor, prime_tensor))"
   ]
  },
  {
   "cell_type": "markdown",
   "metadata": {},
   "source": [
    "### Perkalian"
   ]
  },
  {
   "cell_type": "code",
   "execution_count": 59,
   "metadata": {},
   "outputs": [
    {
     "name": "stdout",
     "output_type": "stream",
     "text": [
      "tf.Tensor(\n",
      "[[ 12   3  40  35  44]\n",
      " [ 39  68  19 184 261]\n",
      " [124 259 246 344 376]\n",
      " [424 177 549 603 568]\n",
      " [292 553 747 178 679]], shape=(5, 5), dtype=int64)\n"
     ]
    }
   ],
   "source": [
    "print(tf.multiply(random_tensor, prime_tensor))"
   ]
  },
  {
   "cell_type": "markdown",
   "metadata": {},
   "source": [
    "### Pembagian"
   ]
  },
  {
   "cell_type": "code",
   "execution_count": 60,
   "metadata": {},
   "outputs": [
    {
     "name": "stdout",
     "output_type": "stream",
     "text": [
      "tf.Tensor(\n",
      "[[3.         0.33333333 1.6        0.71428571 0.36363636]\n",
      " [0.23076923 0.23529412 0.05263158 0.34782609 0.31034483]\n",
      " [0.12903226 0.18918919 0.14634146 0.18604651 0.17021277]\n",
      " [0.1509434  0.05084746 0.14754098 0.13432836 0.11267606]\n",
      " [0.05479452 0.08860759 0.10843373 0.02247191 0.07216495]], shape=(5, 5), dtype=float64)\n"
     ]
    }
   ],
   "source": [
    "print(tf.divide(random_tensor, prime_tensor))"
   ]
  },
  {
   "cell_type": "markdown",
   "metadata": {},
   "source": [
    "### Perpangkatan"
   ]
  },
  {
   "cell_type": "code",
   "execution_count": 61,
   "metadata": {},
   "outputs": [
    {
     "name": "stdout",
     "output_type": "stream",
     "text": [
      "tf.Tensor(\n",
      "[[                  36                    1                32768\n",
      "                 78125              4194304]\n",
      " [             1594323          17179869184                    1\n",
      "                     0  5756027422282277481]\n",
      " [ 4611686018427387904 -4589464050899304793 -4652000711771422720\n",
      "                     0                    0]\n",
      " [                   0 -1178661806862719173  7528017780279371625\n",
      "   4335951469400386777                    0]\n",
      " [                   0 -8070973709821280713  1885917819274684249\n",
      "                     0 -3000843194277112057]], shape=(5, 5), dtype=int64)\n"
     ]
    }
   ],
   "source": [
    "print(tf.pow(random_tensor, prime_tensor))"
   ]
  },
  {
   "cell_type": "markdown",
   "metadata": {},
   "source": [
    "# Menampilkan nilai maksimal dan minimal dari variable random_tensor"
   ]
  },
  {
   "cell_type": "markdown",
   "metadata": {},
   "source": [
    "### Nilai Maks"
   ]
  },
  {
   "cell_type": "code",
   "execution_count": 62,
   "metadata": {},
   "outputs": [
    {
     "name": "stdout",
     "output_type": "stream",
     "text": [
      "Nilai Maksimum dari variable random_tensor berdasarkan kolom adalah :  tf.Tensor([3 2 3 3 1], shape=(5,), dtype=int64)\n",
      "Nilai Maksimum dari variable random_tensor berdasarkan baris adalah :  tf.Tensor([2 4 3 2 2], shape=(5,), dtype=int64)\n"
     ]
    }
   ],
   "source": [
    "max_sample_1 = tf.argmax(random_tensor, axis=0)\n",
    "max_sample_2 = tf.argmax(random_tensor, axis=1)\n",
    "print(\"Nilai Maksimum dari variable random_tensor berdasarkan kolom adalah : \", max_sample_1)\n",
    "print(\"Nilai Maksimum dari variable random_tensor berdasarkan baris adalah : \", max_sample_2)"
   ]
  },
  {
   "cell_type": "markdown",
   "metadata": {},
   "source": [
    "### Nilai Minimum"
   ]
  },
  {
   "cell_type": "code",
   "execution_count": 63,
   "metadata": {},
   "outputs": [
    {
     "name": "stdout",
     "output_type": "stream",
     "text": [
      "Nilai Minimum dari variable random_tensor berdasarkan kolom adalah :  tf.Tensor([1 0 1 4 0], shape=(5,), dtype=int64)\n",
      "Nilai Minimum dari variable random_tensor berdasarkan baris adalah :  tf.Tensor([1 2 0 1 3], shape=(5,), dtype=int64)\n"
     ]
    }
   ],
   "source": [
    "min_sample_1 = tf.argmin(random_tensor, axis=0)\n",
    "min_sample_2 = tf.argmin(random_tensor, axis=1)\n",
    "print(\"Nilai Minimum dari variable random_tensor berdasarkan kolom adalah : \", min_sample_1)\n",
    "print(\"Nilai Minimum dari variable random_tensor berdasarkan baris adalah : \", min_sample_2)"
   ]
  },
  {
   "cell_type": "markdown",
   "metadata": {},
   "source": [
    "# Concatenation"
   ]
  },
  {
   "cell_type": "markdown",
   "metadata": {},
   "source": [
    "### Menggabungkan variable random_tensor dengan prime_tensor menggunakan metode tf.concat()"
   ]
  },
  {
   "cell_type": "code",
   "execution_count": 64,
   "metadata": {},
   "outputs": [
    {
     "name": "stdout",
     "output_type": "stream",
     "text": [
      "Size data yang sudah di-concat (10, 5)\n",
      "tf.Tensor(\n",
      "[[ 6  1  8  5  4]\n",
      " [ 3  4  1  8  9]\n",
      " [ 4  7  6  8  8]\n",
      " [ 8  3  9  9  8]\n",
      " [ 4  7  9  2  7]\n",
      " [ 2  3  5  7 11]\n",
      " [13 17 19 23 29]\n",
      " [31 37 41 43 47]\n",
      " [53 59 61 67 71]\n",
      " [73 79 83 89 97]], shape=(10, 5), dtype=int64)\n"
     ]
    }
   ],
   "source": [
    "concat_sample = tf.concat([random_tensor,prime_tensor], axis = 0)\n",
    "print(f\"Size data yang sudah di-concat {concat_sample.shape}\")\n",
    "print(concat_sample)"
   ]
  },
  {
   "cell_type": "markdown",
   "metadata": {},
   "source": [
    "# Sorting kedua variable secara descending"
   ]
  },
  {
   "cell_type": "markdown",
   "metadata": {},
   "source": [
    "### random_tensor"
   ]
  },
  {
   "cell_type": "code",
   "execution_count": 65,
   "metadata": {},
   "outputs": [
    {
     "data": {
      "text/plain": [
       "<tf.Tensor: shape=(5, 5), dtype=int64, numpy=\n",
       "array([[8, 6, 5, 4, 1],\n",
       "       [9, 8, 4, 3, 1],\n",
       "       [8, 8, 7, 6, 4],\n",
       "       [9, 9, 8, 8, 3],\n",
       "       [9, 7, 7, 4, 2]], dtype=int64)>"
      ]
     },
     "execution_count": 65,
     "metadata": {},
     "output_type": "execute_result"
    }
   ],
   "source": [
    "tf.sort(random_tensor, direction=\"DESCENDING\")"
   ]
  },
  {
   "cell_type": "markdown",
   "metadata": {},
   "source": [
    "### prime_tensor"
   ]
  },
  {
   "cell_type": "code",
   "execution_count": 66,
   "metadata": {},
   "outputs": [
    {
     "data": {
      "text/plain": [
       "<tf.Tensor: shape=(5, 5), dtype=int64, numpy=\n",
       "array([[11,  7,  5,  3,  2],\n",
       "       [29, 23, 19, 17, 13],\n",
       "       [47, 43, 41, 37, 31],\n",
       "       [71, 67, 61, 59, 53],\n",
       "       [97, 89, 83, 79, 73]], dtype=int64)>"
      ]
     },
     "execution_count": 66,
     "metadata": {},
     "output_type": "execute_result"
    }
   ],
   "source": [
    "tf.sort(prime_tensor, direction=\"DESCENDING\")"
   ]
  },
  {
   "cell_type": "code",
   "execution_count": null,
   "metadata": {},
   "outputs": [],
   "source": []
  }
 ],
 "metadata": {
  "kernelspec": {
   "display_name": "Python 3",
   "language": "python",
   "name": "python3"
  },
  "language_info": {
   "codemirror_mode": {
    "name": "ipython",
    "version": 3
   },
   "file_extension": ".py",
   "mimetype": "text/x-python",
   "name": "python",
   "nbconvert_exporter": "python",
   "pygments_lexer": "ipython3",
   "version": "3.8.5"
  }
 },
 "nbformat": 4,
 "nbformat_minor": 4
}
